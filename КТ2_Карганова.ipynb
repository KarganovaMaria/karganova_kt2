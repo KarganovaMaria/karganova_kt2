{
  "nbformat": 4,
  "nbformat_minor": 0,
  "metadata": {
    "colab": {
      "provenance": [],
      "authorship_tag": "ABX9TyMZ3bxiuEqwnXM2TpRb7TZe",
      "include_colab_link": true
    },
    "kernelspec": {
      "name": "python3",
      "display_name": "Python 3"
    },
    "language_info": {
      "name": "python"
    }
  },
  "cells": [
    {
      "cell_type": "markdown",
      "metadata": {
        "id": "view-in-github",
        "colab_type": "text"
      },
      "source": [
        "<a href=\"https://colab.research.google.com/github/KarganovaMaria/karganova_kt2/blob/main/%D0%9A%D0%A22_%D0%9A%D0%B0%D1%80%D0%B3%D0%B0%D0%BD%D0%BE%D0%B2%D0%B0.ipynb\" target=\"_parent\"><img src=\"https://colab.research.google.com/assets/colab-badge.svg\" alt=\"Open In Colab\"/></a>"
      ]
    },
    {
      "cell_type": "markdown",
      "source": [
        "*Сайт-копия Открытого портала данных Правительства Москвы:*\n",
        "\n",
        "[Ссылка на сайт](https://sites.google.com/view/karganovakt2)\n",
        "\n",
        "- Вариант задания - 7 \n",
        "- Раздел - **ЖКХ**\n",
        "\n",
        "На сайте присутствуют следующие страницы:\n",
        "\n",
        "| №стр.  \t| Название     \t|\n",
        "|--------\t|-------------\t|\n",
        "| 1 стр. \t| данные      \t|\n",
        "| 2 стр. \t| справочники \t|\n",
        "| 3 стр. \t| приложения  \t|\n",
        "| 4 стр. \t| новости     \t|\n",
        "| 5 стр. \t| информация  \t|\n",
        "| 6 стр. \t| форум       \t|\n",
        "\n",
        "Как использовать сайт:\n",
        "1. Переходим по ссылке\n",
        "\n",
        "2. На главной странице мы переходим по гиперссылке \"жилищно-коммунальное хозяйство\":\n",
        "![image](https://im.wampi.ru/2023/03/15/2023-03-15_22-13-52.md.png)\n",
        "\n",
        "3. Нам доступна страница даных, переходя по гиперссылкам данных, мы можем просматривать таблицы.\n",
        "\n",
        "4. В справочнике дана информация о характеристиках дворовых территорий с приложением в виде таблицы\n",
        "\n",
        "5. На странице ПРИЛОЖЕНИЯ указаны приложения, связанные с ЖКХ. Нажимая на кнопки, мы можем просмотреть источники(сайты приложений) и установить приложения себе.\n",
        "\n",
        "6. Страница НОВОСТИ отображает актуальное.\n",
        "\n",
        "7. На странице ИНФОРМАЦИЯ мы можем воспользоваться оглавлением и перейти на необходимую информацию.\n",
        "\n",
        "8. Форум разделен на два раздела: категории и доска почета.\n",
        "\n",
        "\n",
        "Ссылка на Colab: https://colab.research.google.com/drive/1QDHjvlQNKSCTC_VBfer_rHeFAoYRc9a8?usp=sharing\n"
      ],
      "metadata": {
        "id": "sbT2aZhBq3Wr"
      }
    }
  ]
}